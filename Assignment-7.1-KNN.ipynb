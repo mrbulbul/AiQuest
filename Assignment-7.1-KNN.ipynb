{
 "cells": [
  {
   "cell_type": "markdown",
   "id": "c986f30e",
   "metadata": {},
   "source": [
    "# Validation of KNN Calculation and Generation of Excel File"
   ]
  },
  {
   "cell_type": "code",
   "execution_count": 1,
   "id": "abcf5f33",
   "metadata": {},
   "outputs": [],
   "source": [
    "import pandas as pd\n",
    "from sklearn.neighbors import KNeighborsRegressor\n",
    "\n",
    "# Create the dataset\n",
    "data = {\n",
    "    'Age': [21, 20, 22, 22, 23, 21, 25, 30, 31],\n",
    "    'Income(k)': [60, 55, 60, 61, 65, 62, 65, 70, 68],\n",
    "}\n",
    "\n",
    "# Create a DataFrame from the data\n",
    "df = pd.DataFrame(data)\n"
   ]
  },
  {
   "cell_type": "code",
   "execution_count": 2,
   "id": "ace1ef60",
   "metadata": {},
   "outputs": [],
   "source": [
    "# Create a new DataFrame with the data point to predict\n",
    "X = pd.DataFrame({'Age': [22]})\n"
   ]
  },
  {
   "cell_type": "code",
   "execution_count": 3,
   "id": "0d43cfca",
   "metadata": {},
   "outputs": [],
   "source": [
    "# Create a KNN regressor with K = 3\n",
    "knn = KNeighborsRegressor(n_neighbors=3)\n",
    "\n",
    "# Fit the KNN regressor to the entire dataset\n",
    "knn.fit(df[['Age']], df['Income(k)'])\n",
    "\n",
    "# Predict the income for the new data point\n",
    "predicted_income = knn.predict(X)"
   ]
  },
  {
   "cell_type": "code",
   "execution_count": 4,
   "id": "f25525b3",
   "metadata": {},
   "outputs": [
    {
     "name": "stderr",
     "output_type": "stream",
     "text": [
      "C:\\Users\\IT BD\\AppData\\Local\\Temp\\ipykernel_7908\\3618315704.py:5: FutureWarning: The frame.append method is deprecated and will be removed from pandas in a future version. Use pandas.concat instead.\n",
      "  updated_df = df.append(new_df, ignore_index=True)\n"
     ]
    },
    {
     "name": "stdout",
     "output_type": "stream",
     "text": [
      "   Age  Income(k)\n",
      "0   21  60.000000\n",
      "1   20  55.000000\n",
      "2   22  60.000000\n",
      "3   22  61.000000\n",
      "4   23  65.000000\n",
      "5   21  62.000000\n",
      "6   25  65.000000\n",
      "7   30  70.000000\n",
      "8   31  68.000000\n",
      "9   22  60.333333\n"
     ]
    }
   ],
   "source": [
    "# Add the prediction to the previous DataFrame\n",
    "new_df = pd.DataFrame({'Age':[22], 'Income(k)':predicted_income})\n",
    "\n",
    "# Append the new data to the existing DataFrame\n",
    "updated_df = df.append(new_df, ignore_index=True)\n",
    "\n",
    "# Save the results to an Excel file\n",
    "updated_df.to_excel('income_prediction.xlsx', index=False)\n",
    "\n",
    "# Display the DataFrame with the prediction\n",
    "print(updated_df)\n"
   ]
  },
  {
   "cell_type": "markdown",
   "id": "859d31da",
   "metadata": {},
   "source": [
    "# Comparing the KNN value with Linera Regression Result "
   ]
  },
  {
   "cell_type": "code",
   "execution_count": 5,
   "id": "a7968c8e",
   "metadata": {},
   "outputs": [],
   "source": [
    "from sklearn.linear_model import LinearRegression\n",
    "\n",
    "# Create a Linear Regression model\n",
    "linear_reg = LinearRegression()\n",
    "\n",
    "# Fit the Linear Regression model to the entire dataset\n",
    "linear_reg.fit(df[['Age']], df['Income(k)'])\n",
    "\n",
    "# Predict the income using Linear Regression for the new data point\n",
    "linear_reg_predicted_income = linear_reg.predict(X[['Age']])\n"
   ]
  },
  {
   "cell_type": "code",
   "execution_count": 6,
   "id": "b7e1736e",
   "metadata": {},
   "outputs": [
    {
     "name": "stdout",
     "output_type": "stream",
     "text": [
      "KNN Predicted Income(k): 60.333333333333336\n",
      "Linear Regression Predicted Income(k): 60.97068965517241\n"
     ]
    }
   ],
   "source": [
    "# Display the predictions\n",
    "print(f'KNN Predicted Income(k): {predicted_income[0]}')\n",
    "print(f'Linear Regression Predicted Income(k): {linear_reg_predicted_income[0]}')"
   ]
  },
  {
   "cell_type": "code",
   "execution_count": null,
   "id": "dc3c6263",
   "metadata": {},
   "outputs": [],
   "source": []
  }
 ],
 "metadata": {
  "kernelspec": {
   "display_name": "Python 3 (ipykernel)",
   "language": "python",
   "name": "python3"
  },
  "language_info": {
   "codemirror_mode": {
    "name": "ipython",
    "version": 3
   },
   "file_extension": ".py",
   "mimetype": "text/x-python",
   "name": "python",
   "nbconvert_exporter": "python",
   "pygments_lexer": "ipython3",
   "version": "3.11.3"
  }
 },
 "nbformat": 4,
 "nbformat_minor": 5
}
