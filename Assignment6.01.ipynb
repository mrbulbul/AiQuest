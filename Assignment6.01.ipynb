import pandas as pd
df = pd.read_csv("supershops.csv")
df.head()
x = df.drop('Profit', axis=1)
y = df['Profit']
y.head()
x.head()
x2 = x.copy()
x2.head()
from sklearn.preprocessing import MinMaxScaler
m = MinMaxScaler()
numeric_columns = x2.select_dtypes(include=['float64', 'int64']).columns

for column in numeric_columns:
    x2[column] = m.fit_transform(x2[[column]])
x2.head()
