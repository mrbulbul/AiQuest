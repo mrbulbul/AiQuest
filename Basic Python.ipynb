{
 "cells": [
  {
   "cell_type": "markdown",
   "id": "a58e5f6e",
   "metadata": {},
   "source": [
    "# 1. Take values of the length & breadth of a rectangle from user input and check if it is square or not"
   ]
  },
  {
   "cell_type": "code",
   "execution_count": 1,
   "id": "2dde9192",
   "metadata": {},
   "outputs": [
    {
     "name": "stdout",
     "output_type": "stream",
     "text": [
      "Enter the length: 46\n",
      "Enter the breadth: 46\n",
      "It's a square.\n"
     ]
    }
   ],
   "source": [
    "#Taking inputs\n",
    "length = int(input(\"Enter the length: \"))\n",
    "breadth = int(input(\"Enter the breadth: \"))\n",
    "\n",
    "#checking and printing square or not\n",
    "if length==breadth:\n",
    "    print(\"It's a square.\")\n",
    "else:\n",
    "    print(\"It's a rectangle.\")"
   ]
  },
  {
   "cell_type": "markdown",
   "id": "18698aab",
   "metadata": {},
   "source": [
    "# 2. Take three integer values from the user and print the greatest among them."
   ]
  },
  {
   "cell_type": "code",
   "execution_count": 2,
   "id": "012602b9",
   "metadata": {},
   "outputs": [
    {
     "name": "stdout",
     "output_type": "stream",
     "text": [
      "Enter first value: 45\n",
      "Enter second value: 54\n",
      "Enter third value: 45\n",
      "54 is the largest.\n"
     ]
    }
   ],
   "source": [
    "#taking inputs\n",
    "a = int(input(\"Enter first value: \"))\n",
    "b = int(input(\"Enter second value: \"))\n",
    "c = int(input(\"Enter third value: \"))\n",
    "\n",
    "#checking and print the biggest number\n",
    "if a >b:\n",
    "    if a>c:\n",
    "        print(a,\"is the largest.\")\n",
    "    else:\n",
    "        print(c,\"is the largest.\")\n",
    "else:\n",
    "    print(b,\"is the largest.\")"
   ]
  },
  {
   "cell_type": "markdown",
   "id": "b24fc4b6",
   "metadata": {},
   "source": [
    "# 3. A student will not be allowed to sit in an exam if his/her attendance is less than 75%."
   ]
  },
  {
   "cell_type": "code",
   "execution_count": 3,
   "id": "d56415f6",
   "metadata": {},
   "outputs": [
    {
     "name": "stdout",
     "output_type": "stream",
     "text": [
      "Enter the number of total class held: 81\n",
      "Enter the number of class attanded: 75\n",
      "The student is allowed to sit in exam.\n"
     ]
    }
   ],
   "source": [
    "#Taking inputs of total class held, class attanded, and the attandence percentage\n",
    "total_class_held = int(input(\"Enter the number of total class held: \"))\n",
    "total_class_attanded = int(input(\"Enter the number of class attanded: \"))\n",
    "class_attandence_percentage = (total_class_attanded/total_class_held)*100\n",
    "\n",
    "#checking the student is eligible or not to sit in exam\n",
    "if class_attandence_percentage>=75:\n",
    "    print(\"The student is allowed to sit in exam.\")\n",
    "else:\n",
    "    print(\"The student is not allowed to sit in exam.\")"
   ]
  },
  {
   "cell_type": "markdown",
   "id": "179ed65b",
   "metadata": {},
   "source": [
    "# 4. A school has the following rules for the grading system:\n",
    "Below 25 – F, 25 to 44 – E, 45 to 49 – D, 50 to 59 – C, 60 to 79 – B, 80 to 89 - A, Above 90 - A+\n",
    "Now, Ask the user to enter marks and print the corresponding grade."
   ]
  },
  {
   "cell_type": "code",
   "execution_count": 4,
   "id": "9a956b50",
   "metadata": {},
   "outputs": [
    {
     "name": "stdout",
     "output_type": "stream",
     "text": [
      "Enter the marks: 79\n",
      "B grade.\n"
     ]
    }
   ],
   "source": [
    "#Taking marks from user\n",
    "marks =int(input(\"Enter the marks: \"))\n",
    "#Checking the input is valid or not and printing the grade\n",
    "if marks <0 or marks>100:\n",
    "    print(\"Invalid input! Marks should be in between 0 and 100.\")\n",
    "else:\n",
    "    if marks<25:\n",
    "        print(\"F grade.\")\n",
    "    elif 25<=marks<=44:\n",
    "        print(\"E grade.\")\n",
    "    elif 45<=marks<=49:\n",
    "        print(\"D grade.\")\n",
    "    elif 50<=marks<=59:\n",
    "        print(\"C grade.\")\n",
    "    elif 60<=marks<=79:\n",
    "        print(\"B grade.\")\n",
    "    elif 80<=marks<=89:\n",
    "        print(\"A grade.\")\n",
    "    else:\n",
    "        print(\"A+ grade.\")"
   ]
  },
  {
   "cell_type": "markdown",
   "id": "909f0d61",
   "metadata": {},
   "source": [
    "# 5. Print the following pattern using for and while loop.\n",
    "1 2 3 4 5 6 7 |\n",
    "1 2 3 4 5 6 |\n",
    "1 2 3 4 5 |\n",
    "1 2 3 4 |"
   ]
  },
  {
   "cell_type": "code",
   "execution_count": 5,
   "id": "71ad3270",
   "metadata": {},
   "outputs": [
    {
     "name": "stdout",
     "output_type": "stream",
     "text": [
      "1 2 3 4 5 6 7 \n",
      "1 2 3 4 5 6 \n",
      "1 2 3 4 5 \n",
      "1 2 3 4 \n"
     ]
    }
   ],
   "source": [
    "#printing pattern using for loop\n",
    "for i in range(7,3,-1):\n",
    "    for j in range(1, i+1):\n",
    "        print(j, end=\" \")\n",
    "    print()"
   ]
  },
  {
   "cell_type": "code",
   "execution_count": 7,
   "id": "099eeec2",
   "metadata": {},
   "outputs": [
    {
     "name": "stdout",
     "output_type": "stream",
     "text": [
      "1 2 3 4 5 6 7 \n",
      "1 2 3 4 5 6 \n",
      "1 2 3 4 5 \n",
      "1 2 3 4 \n"
     ]
    }
   ],
   "source": [
    "#printing pattern using while loop\n",
    "\n",
    "i = 7\n",
    "while i > 3:\n",
    "    j = 1\n",
    "    while j <= i:\n",
    "        print(j, end=' ')\n",
    "        j += 1\n",
    "    print()\n",
    "    i -= 1"
   ]
  },
  {
   "cell_type": "markdown",
   "id": "89299e32",
   "metadata": {},
   "source": [
    "# 6. Display numbers from -100 to -10 using for loop."
   ]
  },
  {
   "cell_type": "code",
   "execution_count": 9,
   "id": "c435d6e8",
   "metadata": {},
   "outputs": [
    {
     "name": "stdout",
     "output_type": "stream",
     "text": [
      "-100\n",
      "-99\n",
      "-98\n",
      "-97\n",
      "-96\n",
      "-95\n",
      "-94\n",
      "-93\n",
      "-92\n",
      "-91\n",
      "-90\n",
      "-89\n",
      "-88\n",
      "-87\n",
      "-86\n",
      "-85\n",
      "-84\n",
      "-83\n",
      "-82\n",
      "-81\n",
      "-80\n",
      "-79\n",
      "-78\n",
      "-77\n",
      "-76\n",
      "-75\n",
      "-74\n",
      "-73\n",
      "-72\n",
      "-71\n",
      "-70\n",
      "-69\n",
      "-68\n",
      "-67\n",
      "-66\n",
      "-65\n",
      "-64\n",
      "-63\n",
      "-62\n",
      "-61\n",
      "-60\n",
      "-59\n",
      "-58\n",
      "-57\n",
      "-56\n",
      "-55\n",
      "-54\n",
      "-53\n",
      "-52\n",
      "-51\n",
      "-50\n",
      "-49\n",
      "-48\n",
      "-47\n",
      "-46\n",
      "-45\n",
      "-44\n",
      "-43\n",
      "-42\n",
      "-41\n",
      "-40\n",
      "-39\n",
      "-38\n",
      "-37\n",
      "-36\n",
      "-35\n",
      "-34\n",
      "-33\n",
      "-32\n",
      "-31\n",
      "-30\n",
      "-29\n",
      "-28\n",
      "-27\n",
      "-26\n",
      "-25\n",
      "-24\n",
      "-23\n",
      "-22\n",
      "-21\n",
      "-20\n",
      "-19\n",
      "-18\n",
      "-17\n",
      "-16\n",
      "-15\n",
      "-14\n",
      "-13\n",
      "-12\n",
      "-11\n",
      "-10\n"
     ]
    }
   ],
   "source": [
    "#Displaying numbers from -100 to -10 using for loop\n",
    "\n",
    "for num in range(-100, -9):\n",
    "    print(num)"
   ]
  },
  {
   "cell_type": "markdown",
   "id": "b4e072e7",
   "metadata": {},
   "source": [
    "# 7. Write a program to sum all prime numbers within a range of 10 to 1000."
   ]
  },
  {
   "cell_type": "code",
   "execution_count": 10,
   "id": "dc7f8030",
   "metadata": {},
   "outputs": [
    {
     "name": "stdout",
     "output_type": "stream",
     "text": [
      "Sum of the prime numbers from 10 to 1000 is:  76110\n"
     ]
    }
   ],
   "source": [
    "#Initializing the range of numbers and their sum\n",
    "low = int(10)\n",
    "high = int(1000)\n",
    "prime_sum = 0\n",
    "\n",
    "#Finding prime numbers and adding them\n",
    "for num in range (low, high+1):\n",
    "    if num>1:\n",
    "        for i in range (2, num):\n",
    "            if (num%i ==0):\n",
    "                break\n",
    "        else:\n",
    "            prime_sum += num\n",
    "print(\"Sum of the prime numbers from\",low,\"to\",high,\"is: \",prime_sum) "
   ]
  },
  {
   "cell_type": "markdown",
   "id": "06fb01ad",
   "metadata": {},
   "source": [
    "# 8. Find the factorial of an n! (Hint, n=7: 7*6*5*4*3*2*1).\n"
   ]
  },
  {
   "cell_type": "code",
   "execution_count": 11,
   "id": "0a820ed8",
   "metadata": {},
   "outputs": [
    {
     "name": "stdout",
     "output_type": "stream",
     "text": [
      "Enter the number: 7\n",
      "Factorial of 7 is:  5040\n"
     ]
    }
   ],
   "source": [
    "n = int(input(\"Enter the number: \"))\n",
    "factorial = 1\n",
    "for i in range(1, n+1):\n",
    "    factorial = factorial*i\n",
    "\n",
    "print(\"Factorial of\",n,\"is: \",factorial)"
   ]
  },
  {
   "cell_type": "markdown",
   "id": "bdac8e04",
   "metadata": {},
   "source": [
    "# 9. Reverse a given integer number 27956240710."
   ]
  },
  {
   "cell_type": "code",
   "execution_count": 12,
   "id": "e046e589",
   "metadata": {},
   "outputs": [
    {
     "name": "stdout",
     "output_type": "stream",
     "text": [
      "The given number is: 27956240710\n",
      "Reversed number is:  1704265972\n"
     ]
    }
   ],
   "source": [
    "#reversing the given number using while loop\n",
    "given_number = 27956240710\n",
    "print(\"The given number is:\", given_number)\n",
    "\n",
    "reversed_number =0\n",
    "\n",
    "while given_number>0:\n",
    "    reversed_number = (reversed_number*10)+ given_number%10\n",
    "    given_number = given_number//10\n",
    "\n",
    "print(\"Reversed number is: \", reversed_number)"
   ]
  },
  {
   "cell_type": "markdown",
   "id": "8393af33",
   "metadata": {},
   "source": [
    "# 10. Print the following pattern using for and while loop.\n",
    "# # #\n",
    "# # # #\n",
    "# # # \n",
    "# #"
   ]
  },
  {
   "cell_type": "code",
   "execution_count": 13,
   "id": "bfe20e06",
   "metadata": {},
   "outputs": [
    {
     "name": "stdout",
     "output_type": "stream",
     "text": [
      "# # # \n",
      "# # # # \n",
      "# # # \n",
      "# # \n"
     ]
    }
   ],
   "source": [
    "#displaying patteren using for loop\n",
    "for i in range(1):\n",
    "    for j in range(3):\n",
    "        print(\"#\", end=' ')\n",
    "    print()\n",
    "for i in range(3):\n",
    "    for j in range(4 - i):\n",
    "        print(\"#\", end=' ')\n",
    "    print()"
   ]
  },
  {
   "cell_type": "code",
   "execution_count": 14,
   "id": "647e83ee",
   "metadata": {},
   "outputs": [
    {
     "name": "stdout",
     "output_type": "stream",
     "text": [
      "# # # \n",
      "# # # # \n",
      "# # # \n",
      "# # \n"
     ]
    }
   ],
   "source": [
    "#displaying patteren using while loop\n",
    "n = 4\n",
    "i = 3\n",
    "while i < n:\n",
    "    j = 1\n",
    "    while j <= i:\n",
    "        print(\"#\", end=' ')\n",
    "        j += 1\n",
    "    print()\n",
    "    i += 1\n",
    "n = 3\n",
    "i = 0\n",
    "while i < n:\n",
    "    j = n\n",
    "    while j>=i:\n",
    "        print(\"#\", end=' ')\n",
    "        j-=1\n",
    "    print()\n",
    "    i +=1"
   ]
  },
  {
   "cell_type": "markdown",
   "id": "fbfd4993",
   "metadata": {},
   "source": [
    "# 11. Display the Fibonacci series of 15 elements using the for and while loop."
   ]
  },
  {
   "cell_type": "code",
   "execution_count": 15,
   "id": "0b1cfa29",
   "metadata": {},
   "outputs": [
    {
     "name": "stdout",
     "output_type": "stream",
     "text": [
      "0 1 1 2 3 5 8 13 21 34 55 89 144 233 377 "
     ]
    }
   ],
   "source": [
    "#displaying fibonacci series using for loop \n",
    "n = int(15)\n",
    "a = 0\n",
    "b = 1\n",
    "count = 0\n",
    "for x in range (n):\n",
    "    print(count, end=\" \")\n",
    "    count = a+b\n",
    "    b = a\n",
    "    a = count"
   ]
  },
  {
   "cell_type": "code",
   "execution_count": 16,
   "id": "57b5c61b",
   "metadata": {},
   "outputs": [
    {
     "name": "stdout",
     "output_type": "stream",
     "text": [
      "0 1 1 2 3 5 8 13 21 34 55 89 144 233 377 "
     ]
    }
   ],
   "source": [
    "#displaying fibonacci series using while loop \n",
    "n = int(15)\n",
    "a, b = 0, 1\n",
    "count = 0\n",
    "\n",
    "while count < n:\n",
    "    print(a, end=\" \")\n",
    "    sum = a + b\n",
    "    a = b\n",
    "    b = sum\n",
    "    count += 1"
   ]
  },
  {
   "cell_type": "markdown",
   "id": "54502ae8",
   "metadata": {},
   "source": [
    "# 12. Remove 2 and add 3 to the list and replace True with False.\n",
    "Li = [1,3,5, [2,3], True]\n",
    "Output = [1,3,5, [3,3], False]"
   ]
  },
  {
   "cell_type": "code",
   "execution_count": 17,
   "id": "05dca99d",
   "metadata": {},
   "outputs": [
    {
     "name": "stdout",
     "output_type": "stream",
     "text": [
      "[1, 3, 5, [3, 3], False]\n"
     ]
    }
   ],
   "source": [
    "#replacing specific values inside of a list\n",
    "Li = [1,3,5,[2,3], True]\n",
    "Li[3][0]=3\n",
    "Li[4]=False\n",
    "print(Li)"
   ]
  },
  {
   "cell_type": "markdown",
   "id": "69e12097",
   "metadata": {},
   "source": [
    "# 13. Find the intersection (common) of two sets.\n",
    "S1 = {1,4,6,8}\n",
    "S2 = {True, 1,2,10}"
   ]
  },
  {
   "cell_type": "code",
   "execution_count": 18,
   "id": "55607941",
   "metadata": {},
   "outputs": [
    {
     "name": "stdout",
     "output_type": "stream",
     "text": [
      "Intersection: {1}\n"
     ]
    }
   ],
   "source": [
    "#finding intersections of two sets\n",
    "S1= {1,4,6,8}\n",
    "S2= {True, 1, 2, 10}\n",
    "\n",
    "intersection_set = S1.intersection({int(True)} | S2)\n",
    "print(\"Intersection:\",intersection_set)"
   ]
  },
  {
   "cell_type": "markdown",
   "id": "e6c61104",
   "metadata": {},
   "source": [
    "# 14. Input a list from the user then Remove duplicates from a list and create a set and find the max\n",
    "number. User_input = [1,9,3,4,5,200,54]"
   ]
  },
  {
   "cell_type": "code",
   "execution_count": 19,
   "id": "8bc98098",
   "metadata": {},
   "outputs": [
    {
     "name": "stdout",
     "output_type": "stream",
     "text": [
      "Enter a list of numbers separated by commas: 1,9,3,4,5,200,54\n",
      "Original list: [1, 9, 3, 4, 5, 200, 54]\n",
      "List after removing duplicates:  [1, 9, 3, 4, 5, 200, 54]\n",
      "Set after removing duplicates: {1, 3, 4, 5, 200, 9, 54}\n",
      "Maximum number: 200\n"
     ]
    }
   ],
   "source": [
    "#Take input from user as a comma-separated string and convert it into a list of integers\n",
    "user_input = input(\"Enter a list of numbers separated by commas: \")\n",
    "user_list = [int(x) for x in user_input.split(\",\")]\n",
    "#Remove duplicates by creating a new list with unique elements\n",
    "unique_list = []\n",
    "for num in user_list:\n",
    "    if num not in unique_list:\n",
    "        unique_list.append(num)\n",
    "\n",
    "#create a set from the unique list\n",
    "unique_set = set(unique_list)\n",
    "\n",
    "#Find teh maximum number in the unique set\n",
    "max_number = max(unique_set)\n",
    "\n",
    "print(\"Original list:\", user_list)\n",
    "print(\"List after removing duplicates: \", unique_list)\n",
    "print(\"Set after removing duplicates:\", unique_set)\n",
    "print(\"Maximum number:\", max_number)"
   ]
  },
  {
   "cell_type": "markdown",
   "id": "1e6fae07",
   "metadata": {},
   "source": [
    "# 15. Rename the key of a dictionary.\n",
    "Dict = { \"name\": \"Shakil\", \"age\":27, \"city\": “Berlin”, \"country\": \"Germany\" }\n",
    "Write a program to rename a key ‘country’ to a ‘region’ in the following dictionary."
   ]
  },
  {
   "cell_type": "code",
   "execution_count": 20,
   "id": "c987c95a",
   "metadata": {},
   "outputs": [
    {
     "name": "stdout",
     "output_type": "stream",
     "text": [
      "Updated dictionary: {'name': 'Shakil', 'age': 27, 'city': 'Berlin', 'region': 'Germany'}\n"
     ]
    }
   ],
   "source": [
    "#Original dictionary\n",
    "Dict = { \"name\": \"Shakil\", \"age\":27, \"city\": \"Berlin\", \"country\": \"Germany\"}\n",
    "\n",
    "#Defining new key\n",
    "Dict[\"region\"] = Dict.pop(\"country\")\n",
    "\n",
    "print(\"Updated dictionary:\", Dict)"
   ]
  },
  {
   "cell_type": "markdown",
   "id": "8aeab99d",
   "metadata": {},
   "source": [
    "# 16. Creating a data frame using the list.\n",
    "num = [10,100,300] (column name is number)"
   ]
  },
  {
   "cell_type": "code",
   "execution_count": 21,
   "id": "924629d7",
   "metadata": {},
   "outputs": [
    {
     "name": "stdout",
     "output_type": "stream",
     "text": [
      "   number\n",
      "0      10\n",
      "1     100\n",
      "2     300\n"
     ]
    }
   ],
   "source": [
    "#creating a data frame using list\n",
    "import pandas as pd \n",
    "\n",
    "#List of numbers\n",
    "num = [10, 100, 300]\n",
    "\n",
    "#Create a data frame with the list as a single column named \"number\"\n",
    "df = pd.DataFrame({\"number\": num})\n",
    "\n",
    "#Print the DataFrame\n",
    "print(df)"
   ]
  },
  {
   "cell_type": "markdown",
   "id": "d7097a54",
   "metadata": {},
   "source": [
    "# 17. Change the value of a key in a given dictionary.\n",
    "Write a Python program to change ‘age’ to 28 in the following dictionary.\n",
    "Dict = { \"name\": \"Shakil\", \"age\":27, \"city\": “Berlin”, \"country\": \"Germany\" }"
   ]
  },
  {
   "cell_type": "code",
   "execution_count": 22,
   "id": "812843c2",
   "metadata": {},
   "outputs": [
    {
     "name": "stdout",
     "output_type": "stream",
     "text": [
      "Updated dictionary: {'name': 'Shakil', 'age': 28, 'city': 'Berlin', 'country': 'Germany'}\n"
     ]
    }
   ],
   "source": [
    "# Given dictionary\n",
    "Dict = {\"name\": \"Shakil\", \"age\": 27, \"city\": \"Berlin\", \"country\": \"Germany\"}\n",
    "\n",
    "# Change the value of the \"age\" key to 28\n",
    "Dict[\"age\"] = 28\n",
    "\n",
    "print(\"Updated dictionary:\", Dict)"
   ]
  },
  {
   "cell_type": "code",
   "execution_count": null,
   "id": "f5e03eb4",
   "metadata": {},
   "outputs": [],
   "source": []
  }
 ],
 "metadata": {
  "kernelspec": {
   "display_name": "Python 3 (ipykernel)",
   "language": "python",
   "name": "python3"
  },
  "language_info": {
   "codemirror_mode": {
    "name": "ipython",
    "version": 3
   },
   "file_extension": ".py",
   "mimetype": "text/x-python",
   "name": "python",
   "nbconvert_exporter": "python",
   "pygments_lexer": "ipython3",
   "version": "3.11.3"
  }
 },
 "nbformat": 4,
 "nbformat_minor": 5
}
