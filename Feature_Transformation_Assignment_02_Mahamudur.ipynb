{
 "cells": [
  {
   "cell_type": "markdown",
   "id": "7aa18f9b",
   "metadata": {},
   "source": [
    "# Normalization"
   ]
  },
  {
   "cell_type": "code",
   "execution_count": 1,
   "id": "eb573015",
   "metadata": {},
   "outputs": [
    {
     "name": "stdout",
     "output_type": "stream",
     "text": [
      "   Price\n",
      "0    0.2\n",
      "1    0.1\n",
      "2    0.3\n",
      "3    0.4\n",
      "4    0.2\n",
      "5    0.6\n",
      "6    1.0\n",
      "7    0.0\n",
      "8    0.1\n"
     ]
    }
   ],
   "source": [
    "import pandas as pd\n",
    "from sklearn.preprocessing import MinMaxScaler\n",
    "\n",
    "# Create a DataFrame with the given dataset\n",
    "data = {\n",
    "    'Price': [110, 105, 115, 120, 110, 130, 150, 100, 105]\n",
    "}\n",
    "df = pd.DataFrame(data)\n",
    "\n",
    "# Create a MinMaxScaler instance\n",
    "min_max_scaler = MinMaxScaler()\n",
    "\n",
    "# Apply MinMax scaling to the data\n",
    "normalized_data = min_max_scaler.fit_transform(df)\n",
    "\n",
    "# Convert the scaled data back to a DataFrame for better readability\n",
    "normalized_df = pd.DataFrame(normalized_data, columns=['Price'])\n",
    "\n",
    "# Display the normalized data\n",
    "print(normalized_df)"
   ]
  },
  {
   "cell_type": "markdown",
   "id": "5c716613",
   "metadata": {},
   "source": [
    "# Standardization"
   ]
  },
  {
   "cell_type": "code",
   "execution_count": 2,
   "id": "aea63e98",
   "metadata": {},
   "outputs": [
    {
     "name": "stdout",
     "output_type": "stream",
     "text": [
      "      Price\n",
      "0 -0.416356\n",
      "1 -0.757011\n",
      "2 -0.075701\n",
      "3  0.264954\n",
      "4 -0.416356\n",
      "5  0.946264\n",
      "6  2.308884\n",
      "7 -1.097666\n",
      "8 -0.757011\n"
     ]
    }
   ],
   "source": [
    "from sklearn.preprocessing import StandardScaler\n",
    "\n",
    "# Create a StandardScaler instance\n",
    "standard_scaler = StandardScaler()\n",
    "\n",
    "# Apply standardization to the data\n",
    "standardized_data = standard_scaler.fit_transform(df)\n",
    "\n",
    "# Convert the standardized data back to a DataFrame for better readability\n",
    "standardized_df = pd.DataFrame(standardized_data, columns=['Price'])\n",
    "\n",
    "# Display the standardized data\n",
    "print(standardized_df)"
   ]
  },
  {
   "cell_type": "markdown",
   "id": "6685d4cd",
   "metadata": {},
   "source": [
    "# Log Transformation"
   ]
  },
  {
   "cell_type": "code",
   "execution_count": 3,
   "id": "c7f6c834",
   "metadata": {},
   "outputs": [
    {
     "data": {
      "text/html": [
       "<div>\n",
       "<style scoped>\n",
       "    .dataframe tbody tr th:only-of-type {\n",
       "        vertical-align: middle;\n",
       "    }\n",
       "\n",
       "    .dataframe tbody tr th {\n",
       "        vertical-align: top;\n",
       "    }\n",
       "\n",
       "    .dataframe thead th {\n",
       "        text-align: right;\n",
       "    }\n",
       "</style>\n",
       "<table border=\"1\" class=\"dataframe\">\n",
       "  <thead>\n",
       "    <tr style=\"text-align: right;\">\n",
       "      <th></th>\n",
       "      <th>log_price</th>\n",
       "    </tr>\n",
       "  </thead>\n",
       "  <tbody>\n",
       "    <tr>\n",
       "      <th>0</th>\n",
       "      <td>4.700480</td>\n",
       "    </tr>\n",
       "    <tr>\n",
       "      <th>1</th>\n",
       "      <td>4.653960</td>\n",
       "    </tr>\n",
       "    <tr>\n",
       "      <th>2</th>\n",
       "      <td>4.744932</td>\n",
       "    </tr>\n",
       "    <tr>\n",
       "      <th>3</th>\n",
       "      <td>4.787492</td>\n",
       "    </tr>\n",
       "    <tr>\n",
       "      <th>4</th>\n",
       "      <td>4.700480</td>\n",
       "    </tr>\n",
       "    <tr>\n",
       "      <th>5</th>\n",
       "      <td>4.867534</td>\n",
       "    </tr>\n",
       "    <tr>\n",
       "      <th>6</th>\n",
       "      <td>5.010635</td>\n",
       "    </tr>\n",
       "    <tr>\n",
       "      <th>7</th>\n",
       "      <td>4.605170</td>\n",
       "    </tr>\n",
       "    <tr>\n",
       "      <th>8</th>\n",
       "      <td>4.653960</td>\n",
       "    </tr>\n",
       "  </tbody>\n",
       "</table>\n",
       "</div>"
      ],
      "text/plain": [
       "   log_price\n",
       "0   4.700480\n",
       "1   4.653960\n",
       "2   4.744932\n",
       "3   4.787492\n",
       "4   4.700480\n",
       "5   4.867534\n",
       "6   5.010635\n",
       "7   4.605170\n",
       "8   4.653960"
      ]
     },
     "execution_count": 3,
     "metadata": {},
     "output_type": "execute_result"
    }
   ],
   "source": [
    "import numpy as np\n",
    "\n",
    "# Apply log transformation with base e to the 'Price' column and rename it\n",
    "log_transformed_data= pd.DataFrame({'log_price':np.log(df['Price'])})\n",
    "\n",
    "log_transformed_data"
   ]
  },
  {
   "cell_type": "markdown",
   "id": "5cb63534",
   "metadata": {},
   "source": [
    "# Max Absolute Scaler"
   ]
  },
  {
   "cell_type": "code",
   "execution_count": 4,
   "id": "823c9503",
   "metadata": {},
   "outputs": [
    {
     "name": "stdout",
     "output_type": "stream",
     "text": [
      "      Price\n",
      "0  0.733333\n",
      "1  0.700000\n",
      "2  0.766667\n",
      "3  0.800000\n",
      "4  0.733333\n",
      "5  0.866667\n",
      "6  1.000000\n",
      "7  0.666667\n",
      "8  0.700000\n"
     ]
    }
   ],
   "source": [
    "from sklearn.preprocessing import MaxAbsScaler\n",
    "\n",
    "# Create a MaxAbsScaler instance\n",
    "scaler = MaxAbsScaler()\n",
    "\n",
    "# Apply Max Absulate Sacler to the data\n",
    "max_abs_scaled_data = scaler.fit_transform(df)\n",
    "\n",
    "# Convert the scaled data back to a DataFrame for better readability\n",
    "max_abs_scaled_df = pd.DataFrame(max_abs_scaled_data, columns=['Price'])\n",
    "\n",
    "# Display the scaled data\n",
    "print(max_abs_scaled_df)"
   ]
  },
  {
   "cell_type": "markdown",
   "id": "6ece49df",
   "metadata": {},
   "source": [
    "# Robust Scaler"
   ]
  },
  {
   "cell_type": "code",
   "execution_count": 5,
   "id": "3df02bc9",
   "metadata": {},
   "outputs": [
    {
     "name": "stdout",
     "output_type": "stream",
     "text": [
      "      Price\n",
      "0  0.000000\n",
      "1 -0.333333\n",
      "2  0.333333\n",
      "3  0.666667\n",
      "4  0.000000\n",
      "5  1.333333\n",
      "6  2.666667\n",
      "7 -0.666667\n",
      "8 -0.333333\n"
     ]
    }
   ],
   "source": [
    "from sklearn.preprocessing import RobustScaler\n",
    "\n",
    "# Create a RobustScaler instance\n",
    "RoSc = RobustScaler()\n",
    "\n",
    "# Apply RobustScaler to the data\n",
    "robust_scaled_data = RoSc.fit_transform(df)\n",
    "\n",
    "# Convert the RobustScaled data back to a DataFrame for better readability\n",
    "robust_scaled_df = pd.DataFrame(robust_scaled_data, columns=['Price'])\n",
    "\n",
    "# Display the RobustScaled data\n",
    "print(robust_scaled_df)"
   ]
  },
  {
   "cell_type": "markdown",
   "id": "d7ba7b0c",
   "metadata": {},
   "source": [
    "# Making an Excel File"
   ]
  },
  {
   "cell_type": "code",
   "execution_count": 6,
   "id": "6bb2934d",
   "metadata": {},
   "outputs": [
    {
     "name": "stdout",
     "output_type": "stream",
     "text": [
      "Excel file 'transformed_data.xlsx' generated successfully.\n"
     ]
    }
   ],
   "source": [
    "import openpyxl\n",
    "# Create a new DataFrame with transformed data\n",
    "transformed_df = pd.DataFrame({\n",
    "    'Original Price': df['Price'],\n",
    "    'Normalized Price': normalized_df['Price'].values,\n",
    "    'Standardized Price': standardized_data.flatten(),\n",
    "    'Log Transformed Price': log_transformed_data['log_price'].values,\n",
    "    'Robust Scaled Price': robust_scaled_data.flatten(),\n",
    "    'Max Abs Scaled Price': max_abs_scaled_data.flatten()\n",
    "})\n",
    "\n",
    "#save the results to an excel file \n",
    "result_file = 'transfromed_data.xlsx'\n",
    "transformed_df.to_excel(result_file, index=False)\n",
    "\n",
    "print(\"Excel file 'transformed_data.xlsx' generated successfully.\")"
   ]
  }
 ],
 "metadata": {
  "kernelspec": {
   "display_name": "Python 3 (ipykernel)",
   "language": "python",
   "name": "python3"
  },
  "language_info": {
   "codemirror_mode": {
    "name": "ipython",
    "version": 3
   },
   "file_extension": ".py",
   "mimetype": "text/x-python",
   "name": "python",
   "nbconvert_exporter": "python",
   "pygments_lexer": "ipython3",
   "version": "3.11.3"
  }
 },
 "nbformat": 4,
 "nbformat_minor": 5
}
