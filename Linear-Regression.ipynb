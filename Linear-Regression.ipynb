{
 "cells": [
  {
   "cell_type": "code",
   "execution_count": 1,
   "id": "b5ac09d0",
   "metadata": {},
   "outputs": [
    {
     "name": "stdout",
     "output_type": "stream",
     "text": [
      "Slope (M): 2.620967741935484\n",
      "Y-Intercept (C): 35.16129032258065\n",
      "Predicted Price at Weight 6: 50.88709677419355\n",
      "Residuals: 0    -5.403226\n",
      "1    14.354839\n",
      "2   -28.266129\n",
      "3     6.975806\n",
      "4    -0.887097\n",
      "5     6.733871\n",
      "6     6.491935\n",
      "Name: Price, dtype: float64\n",
      "Mean Squared Error (MSE): 167.30990783410135\n",
      "Mean Absolute Error (MAE): 9.87327188940092\n",
      "Results saved to 'linear_regression_results.xlsx'\n"
     ]
    },
    {
     "name": "stderr",
     "output_type": "stream",
     "text": [
      "C:\\ProgramData\\anaconda3\\Lib\\site-packages\\sklearn\\base.py:439: UserWarning: X does not have valid feature names, but LinearRegression was fitted with feature names\n",
      "  warnings.warn(\n"
     ]
    }
   ],
   "source": [
    "import numpy as np\n",
    "import pandas as pd\n",
    "from sklearn.linear_model import LinearRegression\n",
    "from sklearn.metrics import mean_squared_error, mean_absolute_error\n",
    "import openpyxl\n",
    "\n",
    "# Create a DataFrame from the dataset\n",
    "data = {\n",
    "    'Weight': [2, 4, 5, 3, 6, 5, 7],\n",
    "    'Price': [35, 60, 20, 50, 50, 55, 60]\n",
    "}\n",
    "df = pd.DataFrame(data)\n",
    "\n",
    "# Task 01: Ordinary Least Squares Linear Regression\n",
    "X = df[['Weight']]\n",
    "y = df['Price']\n",
    "\n",
    "# Fit the linear regression model\n",
    "regression = LinearRegression()\n",
    "regression.fit(X, y)\n",
    "\n",
    "# Get the slope (M) and y-intercept (C)\n",
    "M = regression.coef_[0]\n",
    "C = regression.intercept_\n",
    "\n",
    "# Predict the price when the vegetable weight is 6\n",
    "predicted_price = regression.predict([[6]])[0]\n",
    "\n",
    "# Task 02: Compute the residuals\n",
    "residuals = y - regression.predict(X)\n",
    "\n",
    "# Task 03: Calculate Mean Squared Error (MSE) and Mean Absolute Error (MAE)\n",
    "mse = mean_squared_error(y, regression.predict(X))\n",
    "mae = mean_absolute_error(y, regression.predict(X))\n",
    "\n",
    "# Create an Excel file with the results\n",
    "result_data = {\n",
    "    'Weight': df['Weight'],\n",
    "    'Actual Price': df['Price'],\n",
    "    'Predicted Price': regression.predict(X),\n",
    "    'Residuals': residuals\n",
    "}\n",
    "result_df = pd.DataFrame(result_data)\n",
    "\n",
    "# Save the results to an Excel file\n",
    "result_file = 'linear_regression_results.xlsx'\n",
    "result_df.to_excel(result_file, index=False)\n",
    "\n",
    "print(f\"Slope (M): {M}\")\n",
    "print(f\"Y-Intercept (C): {C}\")\n",
    "print(f\"Predicted Price at Weight 6: {predicted_price}\")\n",
    "print(f\"Residuals: {residuals}\")\n",
    "print(f\"Mean Squared Error (MSE): {mse}\")\n",
    "print(f\"Mean Absolute Error (MAE): {mae}\")\n",
    "print(f\"Results saved to '{result_file}'\")\n"
   ]
  },
  {
   "cell_type": "code",
   "execution_count": null,
   "id": "fddbe2da",
   "metadata": {},
   "outputs": [],
   "source": []
  }
 ],
 "metadata": {
  "kernelspec": {
   "display_name": "Python 3 (ipykernel)",
   "language": "python",
   "name": "python3"
  },
  "language_info": {
   "codemirror_mode": {
    "name": "ipython",
    "version": 3
   },
   "file_extension": ".py",
   "mimetype": "text/x-python",
   "name": "python",
   "nbconvert_exporter": "python",
   "pygments_lexer": "ipython3",
   "version": "3.11.3"
  }
 },
 "nbformat": 4,
 "nbformat_minor": 5
}
